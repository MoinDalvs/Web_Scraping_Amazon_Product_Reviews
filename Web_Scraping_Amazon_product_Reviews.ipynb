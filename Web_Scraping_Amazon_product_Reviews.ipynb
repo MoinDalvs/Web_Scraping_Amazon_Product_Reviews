{
 "cells": [
  {
   "cell_type": "code",
   "execution_count": 9,
   "id": "a5a3aeb1",
   "metadata": {},
   "outputs": [],
   "source": [
    "from bs4 import BeautifulSoup as bs\n",
    "import requests"
   ]
  },
  {
   "cell_type": "code",
   "execution_count": 10,
   "id": "2a22b572",
   "metadata": {},
   "outputs": [],
   "source": [
    "link = 'https://www.amazon.in/OnePlus-Nord-Bahamas-128GB-Storage/product-reviews/B09RG5R5FG/ref=cm_cr_dp_d_show_all_btm?ie=UTF8&reviewerType=all_reviews'"
   ]
  },
  {
   "cell_type": "code",
   "execution_count": 11,
   "id": "cf05eeaf",
   "metadata": {},
   "outputs": [
    {
     "data": {
      "text/plain": [
       "<Response [200]>"
      ]
     },
     "execution_count": 11,
     "metadata": {},
     "output_type": "execute_result"
    }
   ],
   "source": [
    "page = requests.get(link)\n",
    "page"
   ]
  },
  {
   "cell_type": "code",
   "execution_count": 12,
   "id": "6aaaca22",
   "metadata": {},
   "outputs": [
    {
     "data": {
      "text/plain": [
       "b'<!doctype html><html lang=\"en-in\" class=\"a-no-js\" data-19ax5a9jf=\"dingo\"><!-- sp:feature:head-start -->\\n<head><script>var aPageStart = (new Date()).getTime();</script><meta charset=\"utf-8\"/>\\n<!-- sp:end-feature:head-start -->\\n\\n<!-- sp:feature:cs-optimization -->\\n<meta http-equiv=\\'x-dns-prefetch-control\\' content=\\'on\\'>\\n<link rel=\"dns-prefetch\" href=\"https://images-eu.ssl-images-amazon.com\">\\n<link rel=\"dns-prefetch\" href=\"https://m.media-amazon.com\">\\n<link rel=\"dns-prefetch\" href=\"https://completion.amazon.com\">\\n<!-- sp:end-feature:cs-optimization -->\\n\\n<!-- sp:feature:aui-assets -->\\n<link rel=\"stylesheet\" href=\"https://images-eu.ssl-images-amazon.com/images/I/11EIQ5IGqaL._RC|01ZTHTZObnL.css,41wZkyTaWoL.css,31Y8m1dzTdL.css,013z33uKh2L.css,017DsKjNQJL.css,0131vqwP5UL.css,41EWOOlBJ9L.css,11TIuySqr6L.css,01ElnPiDxWL.css,11bGSgD5pDL.css,01Dm5eKVxwL.css,01IdKcBuAdL.css,01y-XAlI+2L.css,21N4kUH7pxL.css,01oDR3IULNL.css,41CYNGpGlrL.css,01XPHJk60-L.css,114y0SIP+yL.css,21aPhFy+riL.css,11gneA3MtJL.css'"
      ]
     },
     "execution_count": 12,
     "metadata": {},
     "output_type": "execute_result"
    }
   ],
   "source": [
    "page.content[:1000]"
   ]
  },
  {
   "cell_type": "code",
   "execution_count": 13,
   "id": "f41044d0",
   "metadata": {},
   "outputs": [
    {
     "name": "stdout",
     "output_type": "stream",
     "text": [
      "<!DOCTYPE html>\n",
      "<html class=\"a-no-js\" data-19ax5a9jf=\"dingo\" lang=\"en-in\">\n",
      " <!-- sp:feature:head-start -->\n",
      " <head>\n",
      "  <script>\n",
      "   var aPageStart = (new Date()).getTime();\n",
      "  </script>\n",
      "  <meta charset=\"utf-8\"/>\n",
      "  <!-- sp:end-feature:head-start -->\n",
      "  <!-- sp:feature:cs-optimization -->\n",
      "  <meta content=\"on\" http-equiv=\"x-dns-prefetch-control\"/>\n",
      "  <link href=\"https://images-eu.ssl-images-amazon.com\" rel=\"dns-prefetch\"/>\n",
      "  <link href=\"https://m.media-amazon.com\" rel=\"dns-prefetch\"/>\n",
      "  <link href=\"https://completion.amazon.com\" rel=\"dns-prefetch\"/>\n",
      "  <!-- sp:end-feature:cs-optimization -->\n",
      "  <!-- sp:feature:aui-assets -->\n",
      "  <link href=\"https://images-eu.ssl-images-amazon.com/images/I/11EIQ5IGqaL._RC|01ZTHTZObnL.css,41wZkyTaWoL.css,31Y8m1dzTdL.css,013z33uKh2L.css,017DsKjNQJL.css,0131vqwP5UL.css,41EWOOlBJ9L.css,11TIuySqr6L.css,01ElnPiDxWL.css,11bGSgD5pDL.css,01Dm5eKVxwL.css,01IdKcBuAdL.css,01y-XAlI+2L.css,21N4kUH7pxL.css,01oDR3IULNL.css,41CYNGpGlrL.css,01XPHJk60-L.css,114y0SIP+yL.css,21aPhFy+riL\n"
     ]
    }
   ],
   "source": [
    "soup = bs(page.content,'html.parser')\n",
    "print(soup.prettify()[:1000])"
   ]
  },
  {
   "cell_type": "code",
   "execution_count": 14,
   "id": "d326dae3",
   "metadata": {},
   "outputs": [
    {
     "data": {
      "text/plain": [
       "[<span class=\"a-profile-name\">ABDUL RAHEEM</span>,\n",
       " <span class=\"a-profile-name\">Amazon Customer</span>,\n",
       " <span class=\"a-profile-name\">Amazon Customer</span>,\n",
       " <span class=\"a-profile-name\">k.mohamed.vaseem</span>,\n",
       " <span class=\"a-profile-name\">ABDUL RAHEEM</span>,\n",
       " <span class=\"a-profile-name\">ABDUL RAHEEM</span>,\n",
       " <span class=\"a-profile-name\">Himanshu Thakur</span>,\n",
       " <span class=\"a-profile-name\">Himanshu Thakur</span>,\n",
       " <span class=\"a-profile-name\">Akanksha</span>,\n",
       " <span class=\"a-profile-name\">Shivansh Agal</span>,\n",
       " <span class=\"a-profile-name\">Anantha Krishnan</span>,\n",
       " <span class=\"a-profile-name\">Anantha Krishnan</span>,\n",
       " <span class=\"a-profile-name\">SUMAN KUMAR</span>,\n",
       " <span class=\"a-profile-name\">Haritha gidigi</span>,\n",
       " <span class=\"a-profile-name\">k k shukla</span>]"
      ]
     },
     "execution_count": 14,
     "metadata": {},
     "output_type": "execute_result"
    }
   ],
   "source": [
    "names = soup.find_all('span',class_='a-profile-name')\n",
    "names"
   ]
  },
  {
   "cell_type": "code",
   "execution_count": 24,
   "id": "2891381a",
   "metadata": {},
   "outputs": [
    {
     "data": {
      "text/plain": [
       "['ABDUL RAHEEM',\n",
       " 'Amazon Customer',\n",
       " 'Amazon Customer',\n",
       " 'k.mohamed.vaseem',\n",
       " 'ABDUL RAHEEM',\n",
       " 'ABDUL RAHEEM',\n",
       " 'Himanshu Thakur',\n",
       " 'Himanshu Thakur',\n",
       " 'Akanksha',\n",
       " 'Shivansh Agal',\n",
       " 'Anantha Krishnan',\n",
       " 'Anantha Krishnan',\n",
       " 'SUMAN KUMAR',\n",
       " 'Haritha gidigi',\n",
       " 'k k shukla']"
      ]
     },
     "execution_count": 24,
     "metadata": {},
     "output_type": "execute_result"
    }
   ],
   "source": [
    "cust_name = []\n",
    "for i in range(0,len(names)):\n",
    "    cust_name.append(names[i].get_text())\n",
    "cust_name"
   ]
  },
  {
   "cell_type": "code",
   "execution_count": 25,
   "id": "9a88c9c6",
   "metadata": {},
   "outputs": [
    {
     "data": {
      "text/plain": [
       "'ABDUL RAHEEM'"
      ]
     },
     "execution_count": 25,
     "metadata": {},
     "output_type": "execute_result"
    }
   ],
   "source": [
    "cust_name.pop(0)"
   ]
  },
  {
   "cell_type": "code",
   "execution_count": 26,
   "id": "0c4b6909",
   "metadata": {},
   "outputs": [
    {
     "data": {
      "text/plain": [
       "'Amazon Customer'"
      ]
     },
     "execution_count": 26,
     "metadata": {},
     "output_type": "execute_result"
    }
   ],
   "source": [
    "cust_name.pop(0)"
   ]
  },
  {
   "cell_type": "code",
   "execution_count": 28,
   "id": "0d583713",
   "metadata": {},
   "outputs": [
    {
     "data": {
      "text/plain": [
       "'ABDUL RAHEEM'"
      ]
     },
     "execution_count": 28,
     "metadata": {},
     "output_type": "execute_result"
    }
   ],
   "source": [
    "cust_name.pop(2)"
   ]
  },
  {
   "cell_type": "code",
   "execution_count": 30,
   "id": "9046ca80",
   "metadata": {},
   "outputs": [
    {
     "data": {
      "text/plain": [
       "'Himanshu Thakur'"
      ]
     },
     "execution_count": 30,
     "metadata": {},
     "output_type": "execute_result"
    }
   ],
   "source": [
    "cust_name.pop(3)"
   ]
  },
  {
   "cell_type": "code",
   "execution_count": 32,
   "id": "7bcd8b8e",
   "metadata": {},
   "outputs": [
    {
     "data": {
      "text/plain": [
       "'Anantha Krishnan'"
      ]
     },
     "execution_count": 32,
     "metadata": {},
     "output_type": "execute_result"
    }
   ],
   "source": [
    "cust_name.pop(6)"
   ]
  },
  {
   "cell_type": "code",
   "execution_count": 33,
   "id": "b1707218",
   "metadata": {},
   "outputs": [
    {
     "data": {
      "text/plain": [
       "['Amazon Customer',\n",
       " 'k.mohamed.vaseem',\n",
       " 'ABDUL RAHEEM',\n",
       " 'Himanshu Thakur',\n",
       " 'Akanksha',\n",
       " 'Shivansh Agal',\n",
       " 'Anantha Krishnan',\n",
       " 'SUMAN KUMAR',\n",
       " 'Haritha gidigi',\n",
       " 'k k shukla']"
      ]
     },
     "execution_count": 33,
     "metadata": {},
     "output_type": "execute_result"
    }
   ],
   "source": [
    "cust_name"
   ]
  },
  {
   "cell_type": "code",
   "execution_count": 51,
   "id": "fcef6de9",
   "metadata": {},
   "outputs": [
    {
     "data": {
      "text/plain": [
       "10"
      ]
     },
     "execution_count": 51,
     "metadata": {},
     "output_type": "execute_result"
    }
   ],
   "source": [
    "len(cust_name)"
   ]
  },
  {
   "cell_type": "code",
   "execution_count": null,
   "id": "6fe683e5",
   "metadata": {},
   "outputs": [],
   "source": [
    "#cust_name = list(set(cust_name))\n",
    "#cust_name"
   ]
  },
  {
   "cell_type": "code",
   "execution_count": null,
   "id": "ccd8c542",
   "metadata": {},
   "outputs": [],
   "source": [
    "# to maintain the order\n",
    "#seen = set()\n",
    "#result = []\n",
    "#for item in cust_name:\n",
    "   # if item not in seen:\n",
    "     #   seen.add(item)\n",
    "      #  result.append(item)\n",
    "#result"
   ]
  },
  {
   "cell_type": "code",
   "execution_count": 18,
   "id": "bd49ce6f",
   "metadata": {},
   "outputs": [
    {
     "data": {
      "text/plain": [
       "[<a class=\"a-size-base a-link-normal review-title a-color-base review-title-content a-text-bold\" data-hook=\"review-title\" href=\"/gp/customer-reviews/R180C58VIPX5CM?ASIN=B09RG5R5FG\">\n",
       " <span>Worst phone ever</span>\n",
       " </a>,\n",
       " <a class=\"a-size-base a-link-normal review-title a-color-base review-title-content a-text-bold\" data-hook=\"review-title\" href=\"/gp/customer-reviews/RGZ1AQ6113RNV?ASIN=B09RG5R5FG\">\n",
       " <span>Ok !!! Not up to the mark</span>\n",
       " </a>,\n",
       " <a class=\"a-size-base a-link-normal review-title a-color-base review-title-content a-text-bold\" data-hook=\"review-title\" href=\"/gp/customer-reviews/R2MYJJS24DIBBT?ASIN=B09RG5R5FG\">\n",
       " <span>Awesome look</span>\n",
       " </a>,\n",
       " <a class=\"a-size-base a-link-normal review-title a-color-base review-title-content a-text-bold\" data-hook=\"review-title\" href=\"/gp/customer-reviews/R33T5G2HAZTHP5?ASIN=B09RG5R5FG\">\n",
       " <span>One plus losing is originality!!!</span>\n",
       " </a>,\n",
       " <a class=\"a-size-base a-link-normal review-title a-color-base review-title-content a-text-bold\" data-hook=\"review-title\" href=\"/gp/customer-reviews/R321W06EVXTWA3?ASIN=B09RG5R5FG\">\n",
       " <span>Read</span>\n",
       " </a>,\n",
       " <a class=\"a-size-base a-link-normal review-title a-color-base review-title-content a-text-bold\" data-hook=\"review-title\" href=\"/gp/customer-reviews/R3QUZVVQUGQFC0?ASIN=B09RG5R5FG\">\n",
       " <span>Fantastic but some bug fixes required!</span>\n",
       " </a>,\n",
       " <a class=\"a-size-base a-link-normal review-title a-color-base review-title-content a-text-bold\" data-hook=\"review-title\" href=\"/gp/customer-reviews/R33MGWRREKNQI?ASIN=B09RG5R5FG\">\n",
       " <span>A good choice for upgrade</span>\n",
       " </a>,\n",
       " <a class=\"a-size-base a-link-normal review-title a-color-base review-title-content a-text-bold\" data-hook=\"review-title\" href=\"/gp/customer-reviews/R3UA7S8SXNITW7?ASIN=B09RG5R5FG\">\n",
       " <span>Camera is not good... oppo is the best</span>\n",
       " </a>,\n",
       " <a class=\"a-size-base a-link-normal review-title a-color-base review-title-content a-text-bold\" data-hook=\"review-title\" href=\"/gp/customer-reviews/R2B99CX18VTYNZ?ASIN=B09RG5R5FG\">\n",
       " <span>****VERY DISPOINTED BY 1PLUS****. Sound and back camera poor quality.</span>\n",
       " </a>,\n",
       " <a class=\"a-size-base a-link-normal review-title a-color-base review-title-content a-text-bold\" data-hook=\"review-title\" href=\"/gp/customer-reviews/R2KP7E512DKDTV?ASIN=B09RG5R5FG\">\n",
       " <span>bakwas mobile hai</span>\n",
       " </a>]"
      ]
     },
     "execution_count": 18,
     "metadata": {},
     "output_type": "execute_result"
    }
   ],
   "source": [
    "title = soup.find_all('a',class_='review-title-content')\n",
    "title"
   ]
  },
  {
   "cell_type": "code",
   "execution_count": 34,
   "id": "89368af9",
   "metadata": {},
   "outputs": [
    {
     "data": {
      "text/plain": [
       "['\\nWorst phone ever\\n',\n",
       " '\\nOk !!! Not up to the mark\\n',\n",
       " '\\nAwesome look\\n',\n",
       " '\\nOne plus losing is originality!!!\\n',\n",
       " '\\nRead\\n',\n",
       " '\\nFantastic but some bug fixes required!\\n',\n",
       " '\\nA good choice for upgrade\\n',\n",
       " '\\nCamera is not good... oppo is the best\\n',\n",
       " '\\n****VERY DISPOINTED BY 1PLUS****. Sound and back camera poor quality.\\n',\n",
       " '\\nbakwas mobile hai\\n']"
      ]
     },
     "execution_count": 34,
     "metadata": {},
     "output_type": "execute_result"
    }
   ],
   "source": [
    "review_title = []\n",
    "for i in range(0,len(title)):\n",
    "    review_title.append(title[i].get_text())\n",
    "review_title"
   ]
  },
  {
   "cell_type": "code",
   "execution_count": 35,
   "id": "f6aab31d",
   "metadata": {},
   "outputs": [
    {
     "data": {
      "text/plain": [
       "['Worst phone ever\\n',\n",
       " 'Ok !!! Not up to the mark\\n',\n",
       " 'Awesome look\\n',\n",
       " 'One plus losing is originality!!!\\n',\n",
       " 'Read\\n',\n",
       " 'Fantastic but some bug fixes required!\\n',\n",
       " 'A good choice for upgrade\\n',\n",
       " 'Camera is not good... oppo is the best\\n',\n",
       " '****VERY DISPOINTED BY 1PLUS****. Sound and back camera poor quality.\\n',\n",
       " 'bakwas mobile hai\\n']"
      ]
     },
     "execution_count": 35,
     "metadata": {},
     "output_type": "execute_result"
    }
   ],
   "source": [
    "review_title[:] = [titles.lstrip('\\n') for titles in review_title]\n",
    "review_title"
   ]
  },
  {
   "cell_type": "code",
   "execution_count": 36,
   "id": "3fa3aca2",
   "metadata": {},
   "outputs": [
    {
     "data": {
      "text/plain": [
       "['Worst phone ever',\n",
       " 'Ok !!! Not up to the mark',\n",
       " 'Awesome look',\n",
       " 'One plus losing is originality!!!',\n",
       " 'Read',\n",
       " 'Fantastic but some bug fixes required!',\n",
       " 'A good choice for upgrade',\n",
       " 'Camera is not good... oppo is the best',\n",
       " '****VERY DISPOINTED BY 1PLUS****. Sound and back camera poor quality.',\n",
       " 'bakwas mobile hai']"
      ]
     },
     "execution_count": 36,
     "metadata": {},
     "output_type": "execute_result"
    }
   ],
   "source": [
    "review_title[:] = [titles.rstrip('\\n') for titles in review_title]\n",
    "review_title"
   ]
  },
  {
   "cell_type": "code",
   "execution_count": 50,
   "id": "02b22971",
   "metadata": {},
   "outputs": [
    {
     "data": {
      "text/plain": [
       "10"
      ]
     },
     "execution_count": 50,
     "metadata": {},
     "output_type": "execute_result"
    }
   ],
   "source": [
    "len(review_title)"
   ]
  },
  {
   "cell_type": "code",
   "execution_count": 37,
   "id": "ce288650",
   "metadata": {},
   "outputs": [
    {
     "data": {
      "text/plain": [
       "[<i class=\"a-icon a-icon-star a-star-5 review-rating\" data-hook=\"review-star-rating-view-point\"><span class=\"a-icon-alt\">5.0 out of 5 stars</span></i>,\n",
       " <i class=\"a-icon a-icon-star a-star-1 review-rating\" data-hook=\"review-star-rating-view-point\"><span class=\"a-icon-alt\">1.0 out of 5 stars</span></i>,\n",
       " <i class=\"a-icon a-icon-star a-star-1 review-rating\" data-hook=\"review-star-rating\"><span class=\"a-icon-alt\">1.0 out of 5 stars</span></i>,\n",
       " <i class=\"a-icon a-icon-star a-star-2 review-rating\" data-hook=\"review-star-rating\"><span class=\"a-icon-alt\">2.0 out of 5 stars</span></i>,\n",
       " <i class=\"a-icon a-icon-star a-star-5 review-rating\" data-hook=\"review-star-rating\"><span class=\"a-icon-alt\">5.0 out of 5 stars</span></i>,\n",
       " <i class=\"a-icon a-icon-star a-star-3 review-rating\" data-hook=\"review-star-rating\"><span class=\"a-icon-alt\">3.0 out of 5 stars</span></i>,\n",
       " <i class=\"a-icon a-icon-star a-star-1 review-rating\" data-hook=\"review-star-rating\"><span class=\"a-icon-alt\">1.0 out of 5 stars</span></i>,\n",
       " <i class=\"a-icon a-icon-star a-star-4 review-rating\" data-hook=\"review-star-rating\"><span class=\"a-icon-alt\">4.0 out of 5 stars</span></i>,\n",
       " <i class=\"a-icon a-icon-star a-star-5 review-rating\" data-hook=\"review-star-rating\"><span class=\"a-icon-alt\">5.0 out of 5 stars</span></i>,\n",
       " <i class=\"a-icon a-icon-star a-star-3 review-rating\" data-hook=\"review-star-rating\"><span class=\"a-icon-alt\">3.0 out of 5 stars</span></i>,\n",
       " <i class=\"a-icon a-icon-star a-star-1 review-rating\" data-hook=\"review-star-rating\"><span class=\"a-icon-alt\">1.0 out of 5 stars</span></i>,\n",
       " <i class=\"a-icon a-icon-star a-star-1 review-rating\" data-hook=\"review-star-rating\"><span class=\"a-icon-alt\">1.0 out of 5 stars</span></i>]"
      ]
     },
     "execution_count": 37,
     "metadata": {},
     "output_type": "execute_result"
    }
   ],
   "source": [
    "rating = soup.find_all('i',class_='review-rating')\n",
    "rating"
   ]
  },
  {
   "cell_type": "code",
   "execution_count": 38,
   "id": "2b6d5b8c",
   "metadata": {},
   "outputs": [
    {
     "data": {
      "text/plain": [
       "['5.0 out of 5 stars',\n",
       " '1.0 out of 5 stars',\n",
       " '1.0 out of 5 stars',\n",
       " '2.0 out of 5 stars',\n",
       " '5.0 out of 5 stars',\n",
       " '3.0 out of 5 stars',\n",
       " '1.0 out of 5 stars',\n",
       " '4.0 out of 5 stars',\n",
       " '5.0 out of 5 stars',\n",
       " '3.0 out of 5 stars',\n",
       " '1.0 out of 5 stars',\n",
       " '1.0 out of 5 stars']"
      ]
     },
     "execution_count": 38,
     "metadata": {},
     "output_type": "execute_result"
    }
   ],
   "source": [
    "rate = []\n",
    "for i in range(0,len(rating)):\n",
    "    rate.append(rating[i].get_text())\n",
    "rate"
   ]
  },
  {
   "cell_type": "code",
   "execution_count": 47,
   "id": "7334a01e",
   "metadata": {},
   "outputs": [
    {
     "data": {
      "text/plain": [
       "'5.0 out of 5 stars'"
      ]
     },
     "execution_count": 47,
     "metadata": {},
     "output_type": "execute_result"
    }
   ],
   "source": [
    "rate.pop(0)"
   ]
  },
  {
   "cell_type": "code",
   "execution_count": 48,
   "id": "da38cc74",
   "metadata": {},
   "outputs": [
    {
     "data": {
      "text/plain": [
       "'1.0 out of 5 stars'"
      ]
     },
     "execution_count": 48,
     "metadata": {},
     "output_type": "execute_result"
    }
   ],
   "source": [
    "rate.pop(0)"
   ]
  },
  {
   "cell_type": "code",
   "execution_count": 49,
   "id": "9c92c393",
   "metadata": {},
   "outputs": [
    {
     "data": {
      "text/plain": [
       "['1.0 out of 5 stars',\n",
       " '2.0 out of 5 stars',\n",
       " '5.0 out of 5 stars',\n",
       " '3.0 out of 5 stars',\n",
       " '1.0 out of 5 stars',\n",
       " '4.0 out of 5 stars',\n",
       " '5.0 out of 5 stars',\n",
       " '3.0 out of 5 stars',\n",
       " '1.0 out of 5 stars',\n",
       " '1.0 out of 5 stars']"
      ]
     },
     "execution_count": 49,
     "metadata": {},
     "output_type": "execute_result"
    }
   ],
   "source": [
    "rate"
   ]
  },
  {
   "cell_type": "code",
   "execution_count": 52,
   "id": "8518daeb",
   "metadata": {},
   "outputs": [
    {
     "data": {
      "text/plain": [
       "10"
      ]
     },
     "execution_count": 52,
     "metadata": {},
     "output_type": "execute_result"
    }
   ],
   "source": [
    "len(rate)"
   ]
  },
  {
   "cell_type": "code",
   "execution_count": 53,
   "id": "074c162f",
   "metadata": {},
   "outputs": [
    {
     "data": {
      "text/plain": [
       "[<span class=\"a-size-base review-text review-text-content\" data-hook=\"review-body\">\n",
       " <span>Hang problem</span>\n",
       " </span>,\n",
       " <span class=\"a-size-base review-text review-text-content\" data-hook=\"review-body\">\n",
       " <span>I'm writing this review after using 3days !!!<br/><br/>Be to honest this is normal Android phone<br/><br/>It's not like OnePlus<br/><br/>Camera quality very low it says 64mp but not<br/><br/>Sound also low<br/><br/>Battery 🔋 backup ok !!! For one day normal use its<br/><br/>If ur Gamer don't go for it<br/><br/>Overall price it High for this handset<br/><br/>If u really wanna buy OnePlus ho for higher end model<br/><br/>I'm first time buying OnePlus<br/><br/>Little disappointment</span>\n",
       " </span>,\n",
       " <span class=\"a-size-base review-text review-text-content\" data-hook=\"review-body\">\n",
       " <span>Camera is so good n very fast phone back look is awesome<br/>With dis price segment it's worth it n d most important thing is the phone has dedicated memory card slot I think dis is the first one plus phone which has d dedicated slot for memory card<br/>Battery backup is also good n wit the help of 65w charger u can charge ur phone frm 50-100% in just 15 mins<br/>It has the super vooc charger frm Dat u can charge ur phone very fast<br/>Very smooth touch n very fast phone u can play games with no lag<br/>Internet connectivity is also fast n lightning wit my Jio sim as u can c I hav pasted one photo showing d downloading speed of 11mbps wit my cellular network<br/>I think everyone who wants to buy dis phone just go for it<br/>I think oneplus launched dis phone with lots of good features n d most important thing is price is very less<br/>I recommend<br/>Just go for it<br/>Thank u oneplus n Amazon for dis wonderful product</span>\n",
       " </span>,\n",
       " <span class=\"a-size-base review-text review-text-content\" data-hook=\"review-body\"><div class=\"a-section a-spacing-small a-spacing-top-mini video-block\" id=\"video-block-R33T5G2HAZTHP5\">\n",
       " <div class=\"cr-video-desktop cr-video-desktop-placeholder\" data-review-id=\"R33T5G2HAZTHP5\" data-thumbnail-url=\"https://m.media-amazon.com/images/I/61E-BpEkkzL._SY256._SY256.jpg\" data-video-url=\"https://m.media-amazon.com/images/S/vse-vms-transcoding-artifact-eu-west-1-prod/18cdd731-d0e9-47f1-952e-3cd1c56276ef/default.jobtemplate.hls.m3u8\" id=\"review-video-id-R33T5G2HAZTHP5\">\n",
       " <div class=\"cr-media-status-container\">\n",
       " <span class=\"a-spinner a-spinner-medium cr-media-spinner\"></span>\n",
       " <span class=\"a-color-inverse cr-media-error-msg\">\n",
       "                     The media could not be loaded.\n",
       "                 </span>\n",
       " </div>\n",
       " </div>\n",
       " </div><input class=\"video-url\" name=\"\" type=\"hidden\" value=\"https://m.media-amazon.com/images/S/vse-vms-transcoding-artifact-eu-west-1-prod/18cdd731-d0e9-47f1-952e-3cd1c56276ef/default.jobtemplate.mp4.480.mp4\"/><input class=\"video-slate-img-url\" name=\"\" type=\"hidden\" value=\"https://m.media-amazon.com/images/I/61E-BpEkkzL._SY256._SY256.jpg\"/>\n",
       " <span> It’s A average product decent for day to day activity.. one the thing I would like to mention that exchange was Far Far alot Good On amazon it was like 2 to 3 minutes and delivery agent was very Good with me although I had 2 scratches on it but he neglected it as it was minor scratches and I exchanged poco m2 pro 6 64gb variant which was exchanged for rupees 10100. I bought it at 12499 1 and Half year ago and sold it at at very good price!! So plus point To amazon<br/>Coming Back to device I would say it’s a ok device camera is average performance is Fine one plus is losing it’s originality oxygen os to color or..<br/>WARP CHARGER TO VOOC CHARGER!! yes it has been taken by oppo!! I wish the way we believed in one plus doesn’t change with it as A one plus Fan We don’t want To merge with Other brands please keep your Originality Maintained!! thanx amazon for such a hasselfree exchange alot better than FLIPKART</span>\n",
       " </span>,\n",
       " <span class=\"a-size-base review-text review-text-content\" data-hook=\"review-body\">\n",
       " <span>I got my delivery on 23 feb when I unboxed the phone the display was damaged. I requested for replacement of my new phone so technician was suppose to come for inspection but instead of a visit he just talked on call and asked me to install an application. He did not even saw the damage of my display screen.<br/><br/>Lets hope amazon does it right replace my phone. Will update the rest later.<br/>But amazon pls consider my request and replace the item as soon as possible<br/><br/>Edit- The phone is perfect... They replaced it and now everything is perfect...<br/><br/>Camera quality is as expected very perfect<br/>Overall performance best<br/>You can go for it</span>\n",
       " </span>,\n",
       " <span class=\"a-size-base review-text review-text-content\" data-hook=\"review-body\"><div class=\"a-section a-spacing-small a-spacing-top-mini video-block\" id=\"video-block-R3QUZVVQUGQFC0\">\n",
       " <div class=\"cr-video-desktop cr-video-desktop-placeholder\" data-review-id=\"R3QUZVVQUGQFC0\" data-thumbnail-url=\"https://m.media-amazon.com/images/I/31g3eXSkpvL._SY256._SY256.jpg\" data-video-url=\"https://m.media-amazon.com/images/S/vse-vms-transcoding-artifact-eu-west-1-prod/d4c35ed3-7bd1-4b94-b593-fa3e0b5ad611/default.jobtemplate.hls.m3u8\" id=\"review-video-id-R3QUZVVQUGQFC0\">\n",
       " <div class=\"cr-media-status-container\">\n",
       " <span class=\"a-spinner a-spinner-medium cr-media-spinner\"></span>\n",
       " <span class=\"a-color-inverse cr-media-error-msg\">\n",
       "                     The media could not be loaded.\n",
       "                 </span>\n",
       " </div>\n",
       " </div>\n",
       " </div><input class=\"video-url\" name=\"\" type=\"hidden\" value=\"https://m.media-amazon.com/images/S/vse-vms-transcoding-artifact-eu-west-1-prod/d4c35ed3-7bd1-4b94-b593-fa3e0b5ad611/default.jobtemplate.mp4.480.mp4\"/><input class=\"video-slate-img-url\" name=\"\" type=\"hidden\" value=\"https://m.media-amazon.com/images/I/31g3eXSkpvL._SY256._SY256.jpg\"/>\n",
       " <span> Phone is is Fab!<br/>But sometime apps like Gaana, LinkedIn, etc are crashing, I think need to fix some bugs from OnePlus end.<br/>However, camera is good, finishing quality is good, sound effect could be better(not that load as compared to iPhone or other Mi phones)<br/><br/>Touch is awesome, finger print sensor works too fast, excellent face detection unlock<br/><br/>Most sexiest thing is charging, it charges way too quickly, 35-40min approx for full chage<br/><br/>Many more extra features from Android Oxygen &amp; One plus!!<br/><br/>Phone is handy &amp; a good buy in this range!</span>\n",
       " </span>,\n",
       " <span class=\"a-size-base review-text review-text-content\" data-hook=\"review-body\">\n",
       " <span>Nord CE 2 is a decent choice for someone looking to upgrade from an under 15k segment phone. Review after using the 6GB variant for 5 days:<br/><br/>Pros:<br/>- Decent battery life and excellent charging speed<br/>- Smooth performance and display<br/>- Comparatively compact and light weight<br/>- \"Unofficial\" water resistance (read below)<br/>- Design and color is neat<br/><br/>Cons:<br/>- Speaker isn't great<br/>- Camera is okayish<br/>- Unsure of OS experience in the future, stable and bloat free as of now<br/><br/>Detailed:<br/>- Decent battery life and performance. I got around 7 to 8 hrs of screen time from battery at 100% to 20% with normal use with 4G internet (social media, chat, some camera and mobile hotspot tethering at 90HZ display refresh rate). Changing display refresh rate to 60Hz seems to improve battery drain, but 90Hz looks very smooth.<br/>- 65W fast charging is great, can charge from 20% to 100% in 30 minutes. Also not much heating during charging.<br/>- OS looks clean, some preinstalled apps could be uninstalled or disabled. But surprisingly found 3 file manager apps (of which two can be disabled) and two photos app (OnePlus Gallery and Google Photos app, which can't be uninstalled). Didn't find any bugs or functionality issue, no lags or stuttering. Apps open instantly and work fine. OxygenOS 11.3 with Feb 2022 security patch. I guess a stable Android 11 is better than a buggier Android 12 for most customers. But not sure what will happen from OxygenOS 12 which shares Oppo's ColorOS.<br/>- Some heating issue was there on a first day of use, but then got a system update and haven't noticed any heating afterwards.<br/>- Saw a rubber seal for the SIM tray, which could mean that there is some degree of water resistance, but there is no official IP rating. Also saw a YouTube video that tests the water resistance and the phone survived 15 min submersion in water. So there seems to be \"unofficial\" water resistance.<br/>- Cameras are okayish. Main cam takes good pictures at good lighting, but colors are a bit saturated. In wide angle camera, the exposure and color is less. Photos from selfie cam are a bit soft without any filters or modes. Haven't tested much low light or night photography.<br/>- Phone back panel is made of plastic, feels like plastic to touch but the blue color back panel looks really good. Good to hold in hand and use because of comparatively compact and thin size. A smaller bottom chin / bezel would have been better. The case provided is translucent and has a small pattern design (ie its not a plain).<br/><br/>Overall it's a good phone to buy, you get some features like headphone jack and expandable memory which is good for people who have been using it from their previous phones.</span>\n",
       " </span>,\n",
       " <span class=\"a-size-base review-text review-text-content\" data-hook=\"review-body\">\n",
       " <span>Phone is over all good but some heating problem,and selfie 🤳 is not too good.<br/>Other wise phone is good</span>\n",
       " </span>,\n",
       " <span class=\"a-size-base review-text review-text-content\" data-hook=\"review-body\">\n",
       " <span>****Don't buy any phones from Amazon*** i really had a bad exp. DISLIKE:<br/>For 25k poor build quality. Same configuration in real me etc are coming less than 18k only. Just for 1+ brand don't buy for 25k.<br/>---&gt; Audio is worst, single speaker but volume too low in calls for other end. I think phone mic issues.<br/>----&gt; Back camera not good<br/>---&gt; phone touch also I felt bit lack.<br/><br/>Like:<br/>--------+<br/>Fast charging, within 30min 100% charge .<br/>Front cam bit okay.<br/>Battery backup is good.<br/>8 5g bands. Support, dual 4g standby.<br/><br/>**** If OnePlus can promise if they can do something on back camera quality and Audio improvements with updates buy it with any offers. Otherwise go for real me gt master or 9pro or 9pro plus.  And moto mobiles also good. I was using moto for 6years for only good camera and sound i took this but those two only drawback for this phone rest all okay manageble. And no return policy only replacement.</span>\n",
       " </span>,\n",
       " <span class=\"a-size-base review-text review-text-content\" data-hook=\"review-body\">\n",
       " <span>bakwas mobile hai</span>\n",
       " </span>]"
      ]
     },
     "execution_count": 53,
     "metadata": {},
     "output_type": "execute_result"
    }
   ],
   "source": [
    "review = soup.find_all(\"span\",{\"data-hook\":\"review-body\"})\n",
    "review"
   ]
  },
  {
   "cell_type": "code",
   "execution_count": 54,
   "id": "085c3444",
   "metadata": {},
   "outputs": [
    {
     "data": {
      "text/plain": [
       "['\\nHang problem\\n',\n",
       " \"\\nI'm writing this review after using 3days !!!Be to honest this is normal Android phoneIt's not like OnePlusCamera quality very low it says 64mp but notSound also lowBattery 🔋 backup ok !!! For one day normal use itsIf ur Gamer don't go for itOverall price it High for this handsetIf u really wanna buy OnePlus ho for higher end modelI'm first time buying OnePlusLittle disappointment\\n\",\n",
       " \"\\nCamera is so good n very fast phone back look is awesomeWith dis price segment it's worth it n d most important thing is the phone has dedicated memory card slot I think dis is the first one plus phone which has d dedicated slot for memory cardBattery backup is also good n wit the help of 65w charger u can charge ur phone frm 50-100% in just 15 minsIt has the super vooc charger frm Dat u can charge ur phone very fastVery smooth touch n very fast phone u can play games with no lagInternet connectivity is also fast n lightning wit my Jio sim as u can c I hav pasted one photo showing d downloading speed of 11mbps wit my cellular networkI think everyone who wants to buy dis phone just go for itI think oneplus launched dis phone with lots of good features n d most important thing is price is very lessI recommendJust go for itThank u oneplus n Amazon for dis wonderful product\\n\",\n",
       " '\\n\\n\\n\\n\\n                    The media could not be loaded.\\n                \\n\\n\\n\\n\\xa0It’s A average product decent for day to day activity.. one the thing I would like to mention that exchange was Far Far alot Good On amazon it was like 2 to 3 minutes and delivery agent was very Good with me although I had 2 scratches on it but he neglected it as it was minor scratches and I exchanged poco m2 pro 6 64gb variant which was exchanged for rupees 10100. I bought it at 12499 1 and Half year ago and sold it at at very good price!! So plus point To amazonComing Back to device I would say it’s a ok device camera is average performance is Fine one plus is losing it’s originality oxygen os to color or..WARP CHARGER TO VOOC CHARGER!! yes it has been taken by oppo!! I wish the way we believed in one plus doesn’t change with it as A one plus Fan We don’t want To merge with Other brands please keep your Originality Maintained!! thanx amazon for such a hasselfree exchange alot better than FLIPKART\\n',\n",
       " '\\nI got my delivery on 23 feb when I unboxed the phone the display was damaged. I requested for replacement of my new phone so technician was suppose to come for inspection but instead of a visit he just talked on call and asked me to install an application. He did not even saw the damage of my display screen.Lets hope amazon does it right replace my phone. Will update the rest later.But amazon pls consider my request and replace the item as soon as possibleEdit- The phone is perfect... They replaced it and now everything is perfect...Camera quality is as expected very perfectOverall performance bestYou can go for it\\n',\n",
       " '\\n\\n\\n\\n\\n                    The media could not be loaded.\\n                \\n\\n\\n\\n\\xa0Phone is is Fab!But sometime apps like Gaana, LinkedIn, etc are crashing, I think need to fix some bugs from OnePlus end.However, camera is good, finishing quality is good, sound effect could be better(not that load as compared to iPhone or other Mi phones)Touch is awesome, finger print sensor works too fast, excellent face detection unlockMost sexiest thing is charging, it charges way too quickly, 35-40min approx for full chageMany more extra features from Android Oxygen & One plus!!Phone is handy & a good buy in this range!\\n',\n",
       " '\\nNord CE 2 is a decent choice for someone looking to upgrade from an under 15k segment phone. Review after using the 6GB variant for 5 days:Pros:- Decent battery life and excellent charging speed- Smooth performance and display- Comparatively compact and light weight- \"Unofficial\" water resistance (read below)- Design and color is neatCons:- Speaker isn\\'t great- Camera is okayish- Unsure of OS experience in the future, stable and bloat free as of nowDetailed:- Decent battery life and performance. I got around 7 to 8 hrs of screen time from battery at 100% to 20% with normal use with 4G internet (social media, chat, some camera and mobile hotspot tethering at 90HZ display refresh rate). Changing display refresh rate to 60Hz seems to improve battery drain, but 90Hz looks very smooth.- 65W fast charging is great, can charge from 20% to 100% in 30 minutes. Also not much heating during charging.- OS looks clean, some preinstalled apps could be uninstalled or disabled. But surprisingly found 3 file manager apps (of which two can be disabled) and two photos app (OnePlus Gallery and Google Photos app, which can\\'t be uninstalled). Didn\\'t find any bugs or functionality issue, no lags or stuttering. Apps open instantly and work fine. OxygenOS 11.3 with Feb 2022 security patch. I guess a stable Android 11 is better than a buggier Android 12 for most customers. But not sure what will happen from OxygenOS 12 which shares Oppo\\'s ColorOS.- Some heating issue was there on a first day of use, but then got a system update and haven\\'t noticed any heating afterwards.- Saw a rubber seal for the SIM tray, which could mean that there is some degree of water resistance, but there is no official IP rating. Also saw a YouTube video that tests the water resistance and the phone survived 15 min submersion in water. So there seems to be \"unofficial\" water resistance.- Cameras are okayish. Main cam takes good pictures at good lighting, but colors are a bit saturated. In wide angle camera, the exposure and color is less. Photos from selfie cam are a bit soft without any filters or modes. Haven\\'t tested much low light or night photography.- Phone back panel is made of plastic, feels like plastic to touch but the blue color back panel looks really good. Good to hold in hand and use because of comparatively compact and thin size. A smaller bottom chin / bezel would have been better. The case provided is translucent and has a small pattern design (ie its not a plain).Overall it\\'s a good phone to buy, you get some features like headphone jack and expandable memory which is good for people who have been using it from their previous phones.\\n',\n",
       " '\\nPhone is over all good but some heating problem,and selfie 🤳 is not too good.Other wise phone is good\\n',\n",
       " \"\\n****Don't buy any phones from Amazon*** i really had a bad exp. DISLIKE:For 25k poor build quality. Same configuration in real me etc are coming less than 18k only. Just for 1+ brand don't buy for 25k.---> Audio is worst, single speaker but volume too low in calls for other end. I think phone mic issues.----> Back camera not good---> phone touch also I felt bit lack.Like:--------+Fast charging, within 30min 100% charge .Front cam bit okay.Battery backup is good.8 5g bands. Support, dual 4g standby.**** If OnePlus can promise if they can do something on back camera quality and Audio improvements with updates buy it with any offers. Otherwise go for real me gt master or 9pro or 9pro plus.  And moto mobiles also good. I was using moto for 6years for only good camera and sound i took this but those two only drawback for this phone rest all okay manageble. And no return policy only replacement.\\n\",\n",
       " '\\nbakwas mobile hai\\n']"
      ]
     },
     "execution_count": 54,
     "metadata": {},
     "output_type": "execute_result"
    }
   ],
   "source": [
    "review_content = []\n",
    "for i in range(0,len(review)):\n",
    "    review_content.append(review[i].get_text())\n",
    "review_content"
   ]
  },
  {
   "cell_type": "code",
   "execution_count": 57,
   "id": "0713d773",
   "metadata": {
    "scrolled": true
   },
   "outputs": [
    {
     "data": {
      "text/plain": [
       "['Hang problem',\n",
       " \"I'm writing this review after using 3days !!!Be to honest this is normal Android phoneIt's not like OnePlusCamera quality very low it says 64mp but notSound also lowBattery 🔋 backup ok !!! For one day normal use itsIf ur Gamer don't go for itOverall price it High for this handsetIf u really wanna buy OnePlus ho for higher end modelI'm first time buying OnePlusLittle disappointment\",\n",
       " \"Camera is so good n very fast phone back look is awesomeWith dis price segment it's worth it n d most important thing is the phone has dedicated memory card slot I think dis is the first one plus phone which has d dedicated slot for memory cardBattery backup is also good n wit the help of 65w charger u can charge ur phone frm 50-100% in just 15 minsIt has the super vooc charger frm Dat u can charge ur phone very fastVery smooth touch n very fast phone u can play games with no lagInternet connectivity is also fast n lightning wit my Jio sim as u can c I hav pasted one photo showing d downloading speed of 11mbps wit my cellular networkI think everyone who wants to buy dis phone just go for itI think oneplus launched dis phone with lots of good features n d most important thing is price is very lessI recommendJust go for itThank u oneplus n Amazon for dis wonderful product\",\n",
       " '                    The media could not be loaded.\\n                \\n\\n\\n\\n\\xa0It’s A average product decent for day to day activity.. one the thing I would like to mention that exchange was Far Far alot Good On amazon it was like 2 to 3 minutes and delivery agent was very Good with me although I had 2 scratches on it but he neglected it as it was minor scratches and I exchanged poco m2 pro 6 64gb variant which was exchanged for rupees 10100. I bought it at 12499 1 and Half year ago and sold it at at very good price!! So plus point To amazonComing Back to device I would say it’s a ok device camera is average performance is Fine one plus is losing it’s originality oxygen os to color or..WARP CHARGER TO VOOC CHARGER!! yes it has been taken by oppo!! I wish the way we believed in one plus doesn’t change with it as A one plus Fan We don’t want To merge with Other brands please keep your Originality Maintained!! thanx amazon for such a hasselfree exchange alot better than FLIPKART',\n",
       " 'I got my delivery on 23 feb when I unboxed the phone the display was damaged. I requested for replacement of my new phone so technician was suppose to come for inspection but instead of a visit he just talked on call and asked me to install an application. He did not even saw the damage of my display screen.Lets hope amazon does it right replace my phone. Will update the rest later.But amazon pls consider my request and replace the item as soon as possibleEdit- The phone is perfect... They replaced it and now everything is perfect...Camera quality is as expected very perfectOverall performance bestYou can go for it',\n",
       " '                    The media could not be loaded.\\n                \\n\\n\\n\\n\\xa0Phone is is Fab!But sometime apps like Gaana, LinkedIn, etc are crashing, I think need to fix some bugs from OnePlus end.However, camera is good, finishing quality is good, sound effect could be better(not that load as compared to iPhone or other Mi phones)Touch is awesome, finger print sensor works too fast, excellent face detection unlockMost sexiest thing is charging, it charges way too quickly, 35-40min approx for full chageMany more extra features from Android Oxygen & One plus!!Phone is handy & a good buy in this range!',\n",
       " 'Nord CE 2 is a decent choice for someone looking to upgrade from an under 15k segment phone. Review after using the 6GB variant for 5 days:Pros:- Decent battery life and excellent charging speed- Smooth performance and display- Comparatively compact and light weight- \"Unofficial\" water resistance (read below)- Design and color is neatCons:- Speaker isn\\'t great- Camera is okayish- Unsure of OS experience in the future, stable and bloat free as of nowDetailed:- Decent battery life and performance. I got around 7 to 8 hrs of screen time from battery at 100% to 20% with normal use with 4G internet (social media, chat, some camera and mobile hotspot tethering at 90HZ display refresh rate). Changing display refresh rate to 60Hz seems to improve battery drain, but 90Hz looks very smooth.- 65W fast charging is great, can charge from 20% to 100% in 30 minutes. Also not much heating during charging.- OS looks clean, some preinstalled apps could be uninstalled or disabled. But surprisingly found 3 file manager apps (of which two can be disabled) and two photos app (OnePlus Gallery and Google Photos app, which can\\'t be uninstalled). Didn\\'t find any bugs or functionality issue, no lags or stuttering. Apps open instantly and work fine. OxygenOS 11.3 with Feb 2022 security patch. I guess a stable Android 11 is better than a buggier Android 12 for most customers. But not sure what will happen from OxygenOS 12 which shares Oppo\\'s ColorOS.- Some heating issue was there on a first day of use, but then got a system update and haven\\'t noticed any heating afterwards.- Saw a rubber seal for the SIM tray, which could mean that there is some degree of water resistance, but there is no official IP rating. Also saw a YouTube video that tests the water resistance and the phone survived 15 min submersion in water. So there seems to be \"unofficial\" water resistance.- Cameras are okayish. Main cam takes good pictures at good lighting, but colors are a bit saturated. In wide angle camera, the exposure and color is less. Photos from selfie cam are a bit soft without any filters or modes. Haven\\'t tested much low light or night photography.- Phone back panel is made of plastic, feels like plastic to touch but the blue color back panel looks really good. Good to hold in hand and use because of comparatively compact and thin size. A smaller bottom chin / bezel would have been better. The case provided is translucent and has a small pattern design (ie its not a plain).Overall it\\'s a good phone to buy, you get some features like headphone jack and expandable memory which is good for people who have been using it from their previous phones.',\n",
       " 'Phone is over all good but some heating problem,and selfie 🤳 is not too good.Other wise phone is good',\n",
       " \"****Don't buy any phones from Amazon*** i really had a bad exp. DISLIKE:For 25k poor build quality. Same configuration in real me etc are coming less than 18k only. Just for 1+ brand don't buy for 25k.---> Audio is worst, single speaker but volume too low in calls for other end. I think phone mic issues.----> Back camera not good---> phone touch also I felt bit lack.Like:--------+Fast charging, within 30min 100% charge .Front cam bit okay.Battery backup is good.8 5g bands. Support, dual 4g standby.**** If OnePlus can promise if they can do something on back camera quality and Audio improvements with updates buy it with any offers. Otherwise go for real me gt master or 9pro or 9pro plus.  And moto mobiles also good. I was using moto for 6years for only good camera and sound i took this but those two only drawback for this phone rest all okay manageble. And no return policy only replacement.\",\n",
       " 'bakwas mobile hai']"
      ]
     },
     "execution_count": 57,
     "metadata": {},
     "output_type": "execute_result"
    }
   ],
   "source": [
    "review_content[:] = [reviews.lstrip('\\n') for reviews in review_content]\n",
    "review_content"
   ]
  },
  {
   "cell_type": "code",
   "execution_count": 61,
   "id": "ec3972bd",
   "metadata": {},
   "outputs": [
    {
     "data": {
      "text/plain": [
       "['Hang problem',\n",
       " \"I'm writing this review after using 3days !!!Be to honest this is normal Android phoneIt's not like OnePlusCamera quality very low it says 64mp but notSound also lowBattery 🔋 backup ok !!! For one day normal use itsIf ur Gamer don't go for itOverall price it High for this handsetIf u really wanna buy OnePlus ho for higher end modelI'm first time buying OnePlusLittle disappointment\",\n",
       " \"Camera is so good n very fast phone back look is awesomeWith dis price segment it's worth it n d most important thing is the phone has dedicated memory card slot I think dis is the first one plus phone which has d dedicated slot for memory cardBattery backup is also good n wit the help of 65w charger u can charge ur phone frm 50-100% in just 15 minsIt has the super vooc charger frm Dat u can charge ur phone very fastVery smooth touch n very fast phone u can play games with no lagInternet connectivity is also fast n lightning wit my Jio sim as u can c I hav pasted one photo showing d downloading speed of 11mbps wit my cellular networkI think everyone who wants to buy dis phone just go for itI think oneplus launched dis phone with lots of good features n d most important thing is price is very lessI recommendJust go for itThank u oneplus n Amazon for dis wonderful product\",\n",
       " '                    The media could not be loaded.\\n                \\n\\n\\n\\n\\xa0It’s A average product decent for day to day activity.. one the thing I would like to mention that exchange was Far Far alot Good On amazon it was like 2 to 3 minutes and delivery agent was very Good with me although I had 2 scratches on it but he neglected it as it was minor scratches and I exchanged poco m2 pro 6 64gb variant which was exchanged for rupees 10100. I bought it at 12499 1 and Half year ago and sold it at at very good price!! So plus point To amazonComing Back to device I would say it’s a ok device camera is average performance is Fine one plus is losing it’s originality oxygen os to color or..WARP CHARGER TO VOOC CHARGER!! yes it has been taken by oppo!! I wish the way we believed in one plus doesn’t change with it as A one plus Fan We don’t want To merge with Other brands please keep your Originality Maintained!! thanx amazon for such a hasselfree exchange alot better than FLIPKART',\n",
       " 'I got my delivery on 23 feb when I unboxed the phone the display was damaged. I requested for replacement of my new phone so technician was suppose to come for inspection but instead of a visit he just talked on call and asked me to install an application. He did not even saw the damage of my display screen.Lets hope amazon does it right replace my phone. Will update the rest later.But amazon pls consider my request and replace the item as soon as possibleEdit- The phone is perfect... They replaced it and now everything is perfect...Camera quality is as expected very perfectOverall performance bestYou can go for it',\n",
       " '                    The media could not be loaded.\\n                \\n\\n\\n\\n\\xa0Phone is is Fab!But sometime apps like Gaana, LinkedIn, etc are crashing, I think need to fix some bugs from OnePlus end.However, camera is good, finishing quality is good, sound effect could be better(not that load as compared to iPhone or other Mi phones)Touch is awesome, finger print sensor works too fast, excellent face detection unlockMost sexiest thing is charging, it charges way too quickly, 35-40min approx for full chageMany more extra features from Android Oxygen & One plus!!Phone is handy & a good buy in this range!',\n",
       " 'Nord CE 2 is a decent choice for someone looking to upgrade from an under 15k segment phone. Review after using the 6GB variant for 5 days:Pros:- Decent battery life and excellent charging speed- Smooth performance and display- Comparatively compact and light weight- \"Unofficial\" water resistance (read below)- Design and color is neatCons:- Speaker isn\\'t great- Camera is okayish- Unsure of OS experience in the future, stable and bloat free as of nowDetailed:- Decent battery life and performance. I got around 7 to 8 hrs of screen time from battery at 100% to 20% with normal use with 4G internet (social media, chat, some camera and mobile hotspot tethering at 90HZ display refresh rate). Changing display refresh rate to 60Hz seems to improve battery drain, but 90Hz looks very smooth.- 65W fast charging is great, can charge from 20% to 100% in 30 minutes. Also not much heating during charging.- OS looks clean, some preinstalled apps could be uninstalled or disabled. But surprisingly found 3 file manager apps (of which two can be disabled) and two photos app (OnePlus Gallery and Google Photos app, which can\\'t be uninstalled). Didn\\'t find any bugs or functionality issue, no lags or stuttering. Apps open instantly and work fine. OxygenOS 11.3 with Feb 2022 security patch. I guess a stable Android 11 is better than a buggier Android 12 for most customers. But not sure what will happen from OxygenOS 12 which shares Oppo\\'s ColorOS.- Some heating issue was there on a first day of use, but then got a system update and haven\\'t noticed any heating afterwards.- Saw a rubber seal for the SIM tray, which could mean that there is some degree of water resistance, but there is no official IP rating. Also saw a YouTube video that tests the water resistance and the phone survived 15 min submersion in water. So there seems to be \"unofficial\" water resistance.- Cameras are okayish. Main cam takes good pictures at good lighting, but colors are a bit saturated. In wide angle camera, the exposure and color is less. Photos from selfie cam are a bit soft without any filters or modes. Haven\\'t tested much low light or night photography.- Phone back panel is made of plastic, feels like plastic to touch but the blue color back panel looks really good. Good to hold in hand and use because of comparatively compact and thin size. A smaller bottom chin / bezel would have been better. The case provided is translucent and has a small pattern design (ie its not a plain).Overall it\\'s a good phone to buy, you get some features like headphone jack and expandable memory which is good for people who have been using it from their previous phones.',\n",
       " 'Phone is over all good but some heating problem,and selfie 🤳 is not too good.Other wise phone is good',\n",
       " \"****Don't buy any phones from Amazon*** i really had a bad exp. DISLIKE:For 25k poor build quality. Same configuration in real me etc are coming less than 18k only. Just for 1+ brand don't buy for 25k.---> Audio is worst, single speaker but volume too low in calls for other end. I think phone mic issues.----> Back camera not good---> phone touch also I felt bit lack.Like:--------+Fast charging, within 30min 100% charge .Front cam bit okay.Battery backup is good.8 5g bands. Support, dual 4g standby.**** If OnePlus can promise if they can do something on back camera quality and Audio improvements with updates buy it with any offers. Otherwise go for real me gt master or 9pro or 9pro plus.  And moto mobiles also good. I was using moto for 6years for only good camera and sound i took this but those two only drawback for this phone rest all okay manageble. And no return policy only replacement.\",\n",
       " 'bakwas mobile hai']"
      ]
     },
     "execution_count": 61,
     "metadata": {},
     "output_type": "execute_result"
    }
   ],
   "source": [
    "review_content[:] = [reviews.rstrip('\\n') for reviews in review_content]\n",
    "review_content"
   ]
  },
  {
   "cell_type": "code",
   "execution_count": 62,
   "id": "5d5e32d5",
   "metadata": {},
   "outputs": [
    {
     "data": {
      "text/plain": [
       "10"
      ]
     },
     "execution_count": 62,
     "metadata": {},
     "output_type": "execute_result"
    }
   ],
   "source": [
    "len(review_content)"
   ]
  },
  {
   "cell_type": "code",
   "execution_count": 60,
   "id": "d445d7d4",
   "metadata": {},
   "outputs": [
    {
     "data": {
      "text/html": [
       "<div>\n",
       "<style scoped>\n",
       "    .dataframe tbody tr th:only-of-type {\n",
       "        vertical-align: middle;\n",
       "    }\n",
       "\n",
       "    .dataframe tbody tr th {\n",
       "        vertical-align: top;\n",
       "    }\n",
       "\n",
       "    .dataframe thead th {\n",
       "        text-align: right;\n",
       "    }\n",
       "</style>\n",
       "<table border=\"1\" class=\"dataframe\">\n",
       "  <thead>\n",
       "    <tr style=\"text-align: right;\">\n",
       "      <th></th>\n",
       "      <th>Customer Name</th>\n",
       "      <th>Review title</th>\n",
       "      <th>Ratings</th>\n",
       "      <th>Reviews</th>\n",
       "    </tr>\n",
       "  </thead>\n",
       "  <tbody>\n",
       "    <tr>\n",
       "      <th>0</th>\n",
       "      <td>Amazon Customer</td>\n",
       "      <td>Worst phone ever</td>\n",
       "      <td>1.0 out of 5 stars</td>\n",
       "      <td>Hang problem</td>\n",
       "    </tr>\n",
       "    <tr>\n",
       "      <th>1</th>\n",
       "      <td>k.mohamed.vaseem</td>\n",
       "      <td>Ok !!! Not up to the mark</td>\n",
       "      <td>2.0 out of 5 stars</td>\n",
       "      <td>I'm writing this review after using 3days !!!B...</td>\n",
       "    </tr>\n",
       "    <tr>\n",
       "      <th>2</th>\n",
       "      <td>ABDUL RAHEEM</td>\n",
       "      <td>Awesome look</td>\n",
       "      <td>5.0 out of 5 stars</td>\n",
       "      <td>Camera is so good n very fast phone back look ...</td>\n",
       "    </tr>\n",
       "    <tr>\n",
       "      <th>3</th>\n",
       "      <td>Himanshu Thakur</td>\n",
       "      <td>One plus losing is originality!!!</td>\n",
       "      <td>3.0 out of 5 stars</td>\n",
       "      <td>The media could not be loa...</td>\n",
       "    </tr>\n",
       "    <tr>\n",
       "      <th>4</th>\n",
       "      <td>Akanksha</td>\n",
       "      <td>Read</td>\n",
       "      <td>1.0 out of 5 stars</td>\n",
       "      <td>I got my delivery on 23 feb when I unboxed the...</td>\n",
       "    </tr>\n",
       "    <tr>\n",
       "      <th>5</th>\n",
       "      <td>Shivansh Agal</td>\n",
       "      <td>Fantastic but some bug fixes required!</td>\n",
       "      <td>4.0 out of 5 stars</td>\n",
       "      <td>The media could not be loa...</td>\n",
       "    </tr>\n",
       "    <tr>\n",
       "      <th>6</th>\n",
       "      <td>Anantha Krishnan</td>\n",
       "      <td>A good choice for upgrade</td>\n",
       "      <td>5.0 out of 5 stars</td>\n",
       "      <td>Nord CE 2 is a decent choice for someone looki...</td>\n",
       "    </tr>\n",
       "    <tr>\n",
       "      <th>7</th>\n",
       "      <td>SUMAN KUMAR</td>\n",
       "      <td>Camera is not good... oppo is the best</td>\n",
       "      <td>3.0 out of 5 stars</td>\n",
       "      <td>Phone is over all good but some heating proble...</td>\n",
       "    </tr>\n",
       "    <tr>\n",
       "      <th>8</th>\n",
       "      <td>Haritha gidigi</td>\n",
       "      <td>****VERY DISPOINTED BY 1PLUS****. Sound and ba...</td>\n",
       "      <td>1.0 out of 5 stars</td>\n",
       "      <td>****Don't buy any phones from Amazon*** i real...</td>\n",
       "    </tr>\n",
       "    <tr>\n",
       "      <th>9</th>\n",
       "      <td>k k shukla</td>\n",
       "      <td>bakwas mobile hai</td>\n",
       "      <td>1.0 out of 5 stars</td>\n",
       "      <td>bakwas mobile hai</td>\n",
       "    </tr>\n",
       "  </tbody>\n",
       "</table>\n",
       "</div>"
      ],
      "text/plain": [
       "      Customer Name                                       Review title  \\\n",
       "0   Amazon Customer                                   Worst phone ever   \n",
       "1  k.mohamed.vaseem                          Ok !!! Not up to the mark   \n",
       "2      ABDUL RAHEEM                                       Awesome look   \n",
       "3   Himanshu Thakur                  One plus losing is originality!!!   \n",
       "4          Akanksha                                               Read   \n",
       "5     Shivansh Agal             Fantastic but some bug fixes required!   \n",
       "6  Anantha Krishnan                          A good choice for upgrade   \n",
       "7       SUMAN KUMAR             Camera is not good... oppo is the best   \n",
       "8    Haritha gidigi  ****VERY DISPOINTED BY 1PLUS****. Sound and ba...   \n",
       "9        k k shukla                                  bakwas mobile hai   \n",
       "\n",
       "              Ratings                                            Reviews  \n",
       "0  1.0 out of 5 stars                                       Hang problem  \n",
       "1  2.0 out of 5 stars  I'm writing this review after using 3days !!!B...  \n",
       "2  5.0 out of 5 stars  Camera is so good n very fast phone back look ...  \n",
       "3  3.0 out of 5 stars                      The media could not be loa...  \n",
       "4  1.0 out of 5 stars  I got my delivery on 23 feb when I unboxed the...  \n",
       "5  4.0 out of 5 stars                      The media could not be loa...  \n",
       "6  5.0 out of 5 stars  Nord CE 2 is a decent choice for someone looki...  \n",
       "7  3.0 out of 5 stars  Phone is over all good but some heating proble...  \n",
       "8  1.0 out of 5 stars  ****Don't buy any phones from Amazon*** i real...  \n",
       "9  1.0 out of 5 stars                                  bakwas mobile hai  "
      ]
     },
     "execution_count": 60,
     "metadata": {},
     "output_type": "execute_result"
    }
   ],
   "source": [
    "import pandas as pd\n",
    "df = pd.DataFrame()\n",
    "df['Customer Name']=cust_name\n",
    "df['Review title']=review_title\n",
    "df['Ratings']=rate\n",
    "df['Reviews']=review_content\n",
    "df"
   ]
  }
 ],
 "metadata": {
  "kernelspec": {
   "display_name": "Python 3 (ipykernel)",
   "language": "python",
   "name": "python3"
  },
  "language_info": {
   "codemirror_mode": {
    "name": "ipython",
    "version": 3
   },
   "file_extension": ".py",
   "mimetype": "text/x-python",
   "name": "python",
   "nbconvert_exporter": "python",
   "pygments_lexer": "ipython3",
   "version": "3.9.12"
  }
 },
 "nbformat": 4,
 "nbformat_minor": 5
}
